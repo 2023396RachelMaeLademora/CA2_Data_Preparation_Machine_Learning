{
 "cells": [
  {
   "cell_type": "markdown",
   "id": "24bd50d9",
   "metadata": {},
   "source": [
    "### Impoart Libraries "
   ]
  },
  {
   "cell_type": "code",
   "execution_count": 1,
   "id": "66b3b4cd",
   "metadata": {},
   "outputs": [],
   "source": [
    "import pandas as pd\n",
    "import numpy as np \n",
    "import pandas as pd\n",
    "import numpy as np\n",
    "import matplotlib.pyplot as plt\n",
    "import seaborn as sns\n",
    "from sklearn.model_selection import train_test_split\n",
    "import warnings\n",
    "\n",
    "warnings.filterwarnings(\"ignore\")\n",
    "\n",
    "%matplotlib inline"
   ]
  },
  {
   "cell_type": "code",
   "execution_count": 2,
   "id": "fdc5f132",
   "metadata": {},
   "outputs": [],
   "source": [
    "df = pd.read_csv (\"NHANES_age_prediction.csv\")"
   ]
  },
  {
   "cell_type": "code",
   "execution_count": 3,
   "id": "fee5f8fa",
   "metadata": {},
   "outputs": [
    {
     "data": {
      "text/html": [
       "<div>\n",
       "<style scoped>\n",
       "    .dataframe tbody tr th:only-of-type {\n",
       "        vertical-align: middle;\n",
       "    }\n",
       "\n",
       "    .dataframe tbody tr th {\n",
       "        vertical-align: top;\n",
       "    }\n",
       "\n",
       "    .dataframe thead th {\n",
       "        text-align: right;\n",
       "    }\n",
       "</style>\n",
       "<table border=\"1\" class=\"dataframe\">\n",
       "  <thead>\n",
       "    <tr style=\"text-align: right;\">\n",
       "      <th></th>\n",
       "      <th>SEQN</th>\n",
       "      <th>age_group</th>\n",
       "      <th>RIDAGEYR</th>\n",
       "      <th>RIAGENDR</th>\n",
       "      <th>PAQ605</th>\n",
       "      <th>BMXBMI</th>\n",
       "      <th>LBXGLU</th>\n",
       "      <th>DIQ010</th>\n",
       "      <th>LBXGLT</th>\n",
       "      <th>LBXIN</th>\n",
       "    </tr>\n",
       "  </thead>\n",
       "  <tbody>\n",
       "    <tr>\n",
       "      <th>0</th>\n",
       "      <td>73564.0</td>\n",
       "      <td>Adult</td>\n",
       "      <td>61.0</td>\n",
       "      <td>2.0</td>\n",
       "      <td>2.0</td>\n",
       "      <td>35.7</td>\n",
       "      <td>110.0</td>\n",
       "      <td>2.0</td>\n",
       "      <td>150.0</td>\n",
       "      <td>14.91</td>\n",
       "    </tr>\n",
       "    <tr>\n",
       "      <th>1</th>\n",
       "      <td>73568.0</td>\n",
       "      <td>Adult</td>\n",
       "      <td>26.0</td>\n",
       "      <td>2.0</td>\n",
       "      <td>2.0</td>\n",
       "      <td>20.3</td>\n",
       "      <td>89.0</td>\n",
       "      <td>2.0</td>\n",
       "      <td>80.0</td>\n",
       "      <td>3.85</td>\n",
       "    </tr>\n",
       "    <tr>\n",
       "      <th>2</th>\n",
       "      <td>73576.0</td>\n",
       "      <td>Adult</td>\n",
       "      <td>16.0</td>\n",
       "      <td>1.0</td>\n",
       "      <td>2.0</td>\n",
       "      <td>23.2</td>\n",
       "      <td>89.0</td>\n",
       "      <td>2.0</td>\n",
       "      <td>68.0</td>\n",
       "      <td>6.14</td>\n",
       "    </tr>\n",
       "    <tr>\n",
       "      <th>3</th>\n",
       "      <td>73577.0</td>\n",
       "      <td>Adult</td>\n",
       "      <td>32.0</td>\n",
       "      <td>1.0</td>\n",
       "      <td>2.0</td>\n",
       "      <td>28.9</td>\n",
       "      <td>104.0</td>\n",
       "      <td>2.0</td>\n",
       "      <td>84.0</td>\n",
       "      <td>16.15</td>\n",
       "    </tr>\n",
       "    <tr>\n",
       "      <th>4</th>\n",
       "      <td>73580.0</td>\n",
       "      <td>Adult</td>\n",
       "      <td>38.0</td>\n",
       "      <td>2.0</td>\n",
       "      <td>1.0</td>\n",
       "      <td>35.9</td>\n",
       "      <td>103.0</td>\n",
       "      <td>2.0</td>\n",
       "      <td>81.0</td>\n",
       "      <td>10.92</td>\n",
       "    </tr>\n",
       "  </tbody>\n",
       "</table>\n",
       "</div>"
      ],
      "text/plain": [
       "      SEQN age_group  RIDAGEYR  RIAGENDR  PAQ605  BMXBMI  LBXGLU  DIQ010  \\\n",
       "0  73564.0     Adult      61.0       2.0     2.0    35.7   110.0     2.0   \n",
       "1  73568.0     Adult      26.0       2.0     2.0    20.3    89.0     2.0   \n",
       "2  73576.0     Adult      16.0       1.0     2.0    23.2    89.0     2.0   \n",
       "3  73577.0     Adult      32.0       1.0     2.0    28.9   104.0     2.0   \n",
       "4  73580.0     Adult      38.0       2.0     1.0    35.9   103.0     2.0   \n",
       "\n",
       "   LBXGLT  LBXIN  \n",
       "0   150.0  14.91  \n",
       "1    80.0   3.85  \n",
       "2    68.0   6.14  \n",
       "3    84.0  16.15  \n",
       "4    81.0  10.92  "
      ]
     },
     "execution_count": 3,
     "metadata": {},
     "output_type": "execute_result"
    }
   ],
   "source": [
    "df.head()"
   ]
  },
  {
   "cell_type": "code",
   "execution_count": 4,
   "id": "5c478aef",
   "metadata": {},
   "outputs": [
    {
     "data": {
      "text/html": [
       "<div>\n",
       "<style scoped>\n",
       "    .dataframe tbody tr th:only-of-type {\n",
       "        vertical-align: middle;\n",
       "    }\n",
       "\n",
       "    .dataframe tbody tr th {\n",
       "        vertical-align: top;\n",
       "    }\n",
       "\n",
       "    .dataframe thead th {\n",
       "        text-align: right;\n",
       "    }\n",
       "</style>\n",
       "<table border=\"1\" class=\"dataframe\">\n",
       "  <thead>\n",
       "    <tr style=\"text-align: right;\">\n",
       "      <th></th>\n",
       "      <th>SEQN</th>\n",
       "      <th>age_group</th>\n",
       "      <th>RIDAGEYR</th>\n",
       "      <th>RIAGENDR</th>\n",
       "      <th>PAQ605</th>\n",
       "      <th>BMXBMI</th>\n",
       "      <th>LBXGLU</th>\n",
       "      <th>DIQ010</th>\n",
       "      <th>LBXGLT</th>\n",
       "      <th>LBXIN</th>\n",
       "    </tr>\n",
       "  </thead>\n",
       "  <tbody>\n",
       "    <tr>\n",
       "      <th>2273</th>\n",
       "      <td>83711.0</td>\n",
       "      <td>Adult</td>\n",
       "      <td>38.0</td>\n",
       "      <td>2.0</td>\n",
       "      <td>2.0</td>\n",
       "      <td>33.5</td>\n",
       "      <td>100.0</td>\n",
       "      <td>2.0</td>\n",
       "      <td>73.0</td>\n",
       "      <td>6.53</td>\n",
       "    </tr>\n",
       "    <tr>\n",
       "      <th>2274</th>\n",
       "      <td>83712.0</td>\n",
       "      <td>Adult</td>\n",
       "      <td>61.0</td>\n",
       "      <td>1.0</td>\n",
       "      <td>2.0</td>\n",
       "      <td>30.0</td>\n",
       "      <td>93.0</td>\n",
       "      <td>2.0</td>\n",
       "      <td>208.0</td>\n",
       "      <td>13.02</td>\n",
       "    </tr>\n",
       "    <tr>\n",
       "      <th>2275</th>\n",
       "      <td>83713.0</td>\n",
       "      <td>Adult</td>\n",
       "      <td>34.0</td>\n",
       "      <td>1.0</td>\n",
       "      <td>2.0</td>\n",
       "      <td>23.7</td>\n",
       "      <td>103.0</td>\n",
       "      <td>2.0</td>\n",
       "      <td>124.0</td>\n",
       "      <td>21.41</td>\n",
       "    </tr>\n",
       "    <tr>\n",
       "      <th>2276</th>\n",
       "      <td>83718.0</td>\n",
       "      <td>Adult</td>\n",
       "      <td>60.0</td>\n",
       "      <td>2.0</td>\n",
       "      <td>2.0</td>\n",
       "      <td>27.4</td>\n",
       "      <td>90.0</td>\n",
       "      <td>2.0</td>\n",
       "      <td>108.0</td>\n",
       "      <td>4.99</td>\n",
       "    </tr>\n",
       "    <tr>\n",
       "      <th>2277</th>\n",
       "      <td>83727.0</td>\n",
       "      <td>Adult</td>\n",
       "      <td>26.0</td>\n",
       "      <td>1.0</td>\n",
       "      <td>2.0</td>\n",
       "      <td>24.5</td>\n",
       "      <td>108.0</td>\n",
       "      <td>2.0</td>\n",
       "      <td>108.0</td>\n",
       "      <td>3.76</td>\n",
       "    </tr>\n",
       "  </tbody>\n",
       "</table>\n",
       "</div>"
      ],
      "text/plain": [
       "         SEQN age_group  RIDAGEYR  RIAGENDR  PAQ605  BMXBMI  LBXGLU  DIQ010  \\\n",
       "2273  83711.0     Adult      38.0       2.0     2.0    33.5   100.0     2.0   \n",
       "2274  83712.0     Adult      61.0       1.0     2.0    30.0    93.0     2.0   \n",
       "2275  83713.0     Adult      34.0       1.0     2.0    23.7   103.0     2.0   \n",
       "2276  83718.0     Adult      60.0       2.0     2.0    27.4    90.0     2.0   \n",
       "2277  83727.0     Adult      26.0       1.0     2.0    24.5   108.0     2.0   \n",
       "\n",
       "      LBXGLT  LBXIN  \n",
       "2273    73.0   6.53  \n",
       "2274   208.0  13.02  \n",
       "2275   124.0  21.41  \n",
       "2276   108.0   4.99  \n",
       "2277   108.0   3.76  "
      ]
     },
     "execution_count": 4,
     "metadata": {},
     "output_type": "execute_result"
    }
   ],
   "source": [
    "df.tail()"
   ]
  },
  {
   "cell_type": "code",
   "execution_count": 5,
   "id": "193cd5ce",
   "metadata": {},
   "outputs": [
    {
     "name": "stdout",
     "output_type": "stream",
     "text": [
      "<class 'pandas.core.frame.DataFrame'>\n",
      "RangeIndex: 2278 entries, 0 to 2277\n",
      "Data columns (total 10 columns):\n",
      " #   Column     Non-Null Count  Dtype  \n",
      "---  ------     --------------  -----  \n",
      " 0   SEQN       2278 non-null   float64\n",
      " 1   age_group  2278 non-null   object \n",
      " 2   RIDAGEYR   2278 non-null   float64\n",
      " 3   RIAGENDR   2278 non-null   float64\n",
      " 4   PAQ605     2278 non-null   float64\n",
      " 5   BMXBMI     2278 non-null   float64\n",
      " 6   LBXGLU     2278 non-null   float64\n",
      " 7   DIQ010     2278 non-null   float64\n",
      " 8   LBXGLT     2278 non-null   float64\n",
      " 9   LBXIN      2278 non-null   float64\n",
      "dtypes: float64(9), object(1)\n",
      "memory usage: 178.1+ KB\n"
     ]
    }
   ],
   "source": [
    " df.info()"
   ]
  },
  {
   "cell_type": "code",
   "execution_count": 6,
   "id": "21dcf8c8",
   "metadata": {},
   "outputs": [
    {
     "data": {
      "text/html": [
       "<div>\n",
       "<style scoped>\n",
       "    .dataframe tbody tr th:only-of-type {\n",
       "        vertical-align: middle;\n",
       "    }\n",
       "\n",
       "    .dataframe tbody tr th {\n",
       "        vertical-align: top;\n",
       "    }\n",
       "\n",
       "    .dataframe thead th {\n",
       "        text-align: right;\n",
       "    }\n",
       "</style>\n",
       "<table border=\"1\" class=\"dataframe\">\n",
       "  <thead>\n",
       "    <tr style=\"text-align: right;\">\n",
       "      <th></th>\n",
       "      <th>SEQN</th>\n",
       "      <th>RIDAGEYR</th>\n",
       "      <th>RIAGENDR</th>\n",
       "      <th>PAQ605</th>\n",
       "      <th>BMXBMI</th>\n",
       "      <th>LBXGLU</th>\n",
       "      <th>DIQ010</th>\n",
       "      <th>LBXGLT</th>\n",
       "      <th>LBXIN</th>\n",
       "    </tr>\n",
       "  </thead>\n",
       "  <tbody>\n",
       "    <tr>\n",
       "      <th>count</th>\n",
       "      <td>2278.000000</td>\n",
       "      <td>2278.000000</td>\n",
       "      <td>2278.000000</td>\n",
       "      <td>2278.000000</td>\n",
       "      <td>2278.000000</td>\n",
       "      <td>2278.000000</td>\n",
       "      <td>2278.000000</td>\n",
       "      <td>2278.000000</td>\n",
       "      <td>2278.000000</td>\n",
       "    </tr>\n",
       "    <tr>\n",
       "      <th>mean</th>\n",
       "      <td>78691.853819</td>\n",
       "      <td>41.795874</td>\n",
       "      <td>1.511414</td>\n",
       "      <td>1.822651</td>\n",
       "      <td>27.955180</td>\n",
       "      <td>99.553117</td>\n",
       "      <td>2.016242</td>\n",
       "      <td>114.978929</td>\n",
       "      <td>11.834794</td>\n",
       "    </tr>\n",
       "    <tr>\n",
       "      <th>std</th>\n",
       "      <td>2921.365151</td>\n",
       "      <td>20.156111</td>\n",
       "      <td>0.499979</td>\n",
       "      <td>0.398918</td>\n",
       "      <td>7.248962</td>\n",
       "      <td>17.889834</td>\n",
       "      <td>0.185556</td>\n",
       "      <td>47.061239</td>\n",
       "      <td>9.718812</td>\n",
       "    </tr>\n",
       "    <tr>\n",
       "      <th>min</th>\n",
       "      <td>73564.000000</td>\n",
       "      <td>12.000000</td>\n",
       "      <td>1.000000</td>\n",
       "      <td>1.000000</td>\n",
       "      <td>14.500000</td>\n",
       "      <td>63.000000</td>\n",
       "      <td>1.000000</td>\n",
       "      <td>40.000000</td>\n",
       "      <td>0.140000</td>\n",
       "    </tr>\n",
       "    <tr>\n",
       "      <th>25%</th>\n",
       "      <td>76171.750000</td>\n",
       "      <td>24.000000</td>\n",
       "      <td>1.000000</td>\n",
       "      <td>2.000000</td>\n",
       "      <td>22.800000</td>\n",
       "      <td>91.000000</td>\n",
       "      <td>2.000000</td>\n",
       "      <td>87.000000</td>\n",
       "      <td>5.860000</td>\n",
       "    </tr>\n",
       "    <tr>\n",
       "      <th>50%</th>\n",
       "      <td>78749.000000</td>\n",
       "      <td>41.000000</td>\n",
       "      <td>2.000000</td>\n",
       "      <td>2.000000</td>\n",
       "      <td>26.800000</td>\n",
       "      <td>97.000000</td>\n",
       "      <td>2.000000</td>\n",
       "      <td>105.000000</td>\n",
       "      <td>9.040000</td>\n",
       "    </tr>\n",
       "    <tr>\n",
       "      <th>75%</th>\n",
       "      <td>81213.500000</td>\n",
       "      <td>58.000000</td>\n",
       "      <td>2.000000</td>\n",
       "      <td>2.000000</td>\n",
       "      <td>31.200000</td>\n",
       "      <td>104.000000</td>\n",
       "      <td>2.000000</td>\n",
       "      <td>130.000000</td>\n",
       "      <td>14.440000</td>\n",
       "    </tr>\n",
       "    <tr>\n",
       "      <th>max</th>\n",
       "      <td>83727.000000</td>\n",
       "      <td>80.000000</td>\n",
       "      <td>2.000000</td>\n",
       "      <td>7.000000</td>\n",
       "      <td>70.100000</td>\n",
       "      <td>405.000000</td>\n",
       "      <td>3.000000</td>\n",
       "      <td>604.000000</td>\n",
       "      <td>102.290000</td>\n",
       "    </tr>\n",
       "  </tbody>\n",
       "</table>\n",
       "</div>"
      ],
      "text/plain": [
       "               SEQN     RIDAGEYR     RIAGENDR       PAQ605       BMXBMI  \\\n",
       "count   2278.000000  2278.000000  2278.000000  2278.000000  2278.000000   \n",
       "mean   78691.853819    41.795874     1.511414     1.822651    27.955180   \n",
       "std     2921.365151    20.156111     0.499979     0.398918     7.248962   \n",
       "min    73564.000000    12.000000     1.000000     1.000000    14.500000   \n",
       "25%    76171.750000    24.000000     1.000000     2.000000    22.800000   \n",
       "50%    78749.000000    41.000000     2.000000     2.000000    26.800000   \n",
       "75%    81213.500000    58.000000     2.000000     2.000000    31.200000   \n",
       "max    83727.000000    80.000000     2.000000     7.000000    70.100000   \n",
       "\n",
       "            LBXGLU       DIQ010       LBXGLT        LBXIN  \n",
       "count  2278.000000  2278.000000  2278.000000  2278.000000  \n",
       "mean     99.553117     2.016242   114.978929    11.834794  \n",
       "std      17.889834     0.185556    47.061239     9.718812  \n",
       "min      63.000000     1.000000    40.000000     0.140000  \n",
       "25%      91.000000     2.000000    87.000000     5.860000  \n",
       "50%      97.000000     2.000000   105.000000     9.040000  \n",
       "75%     104.000000     2.000000   130.000000    14.440000  \n",
       "max     405.000000     3.000000   604.000000   102.290000  "
      ]
     },
     "execution_count": 6,
     "metadata": {},
     "output_type": "execute_result"
    }
   ],
   "source": [
    "df.describe()"
   ]
  },
  {
   "cell_type": "code",
   "execution_count": 7,
   "id": "d4b788dd",
   "metadata": {},
   "outputs": [
    {
     "data": {
      "text/plain": [
       "array([73564., 73568., 73576., ..., 83713., 83718., 83727.])"
      ]
     },
     "execution_count": 7,
     "metadata": {},
     "output_type": "execute_result"
    }
   ],
   "source": [
    "df['SEQN'].unique()"
   ]
  },
  {
   "cell_type": "code",
   "execution_count": 8,
   "id": "34b730de",
   "metadata": {},
   "outputs": [
    {
     "data": {
      "text/plain": [
       "array(['Adult', 'Senior'], dtype=object)"
      ]
     },
     "execution_count": 8,
     "metadata": {},
     "output_type": "execute_result"
    }
   ],
   "source": [
    "df['age_group'].unique()"
   ]
  },
  {
   "cell_type": "code",
   "execution_count": 9,
   "id": "3b8cd3f3",
   "metadata": {},
   "outputs": [
    {
     "data": {
      "text/plain": [
       "SEQN         0\n",
       "age_group    0\n",
       "RIDAGEYR     0\n",
       "RIAGENDR     0\n",
       "PAQ605       0\n",
       "BMXBMI       0\n",
       "LBXGLU       0\n",
       "DIQ010       0\n",
       "LBXGLT       0\n",
       "LBXIN        0\n",
       "dtype: int64"
      ]
     },
     "execution_count": 9,
     "metadata": {},
     "output_type": "execute_result"
    }
   ],
   "source": [
    "df.isnull().sum()"
   ]
  },
  {
   "cell_type": "code",
   "execution_count": 10,
   "id": "e8b667e3",
   "metadata": {},
   "outputs": [
    {
     "data": {
      "text/plain": [
       "0       False\n",
       "1       False\n",
       "2       False\n",
       "3       False\n",
       "4       False\n",
       "        ...  \n",
       "2273    False\n",
       "2274    False\n",
       "2275    False\n",
       "2276    False\n",
       "2277    False\n",
       "Length: 2278, dtype: bool"
      ]
     },
     "execution_count": 10,
     "metadata": {},
     "output_type": "execute_result"
    }
   ],
   "source": [
    "df.duplicated()"
   ]
  },
  {
   "cell_type": "code",
   "execution_count": 21,
   "id": "0aa74a45",
   "metadata": {},
   "outputs": [
    {
     "data": {
      "text/html": [
       "<div>\n",
       "<style scoped>\n",
       "    .dataframe tbody tr th:only-of-type {\n",
       "        vertical-align: middle;\n",
       "    }\n",
       "\n",
       "    .dataframe tbody tr th {\n",
       "        vertical-align: top;\n",
       "    }\n",
       "\n",
       "    .dataframe thead th {\n",
       "        text-align: right;\n",
       "    }\n",
       "</style>\n",
       "<table border=\"1\" class=\"dataframe\">\n",
       "  <thead>\n",
       "    <tr style=\"text-align: right;\">\n",
       "      <th></th>\n",
       "      <th>age_group</th>\n",
       "      <th>RIDAGEYR</th>\n",
       "      <th>RIAGENDR</th>\n",
       "      <th>PAQ605</th>\n",
       "      <th>BMXBMI</th>\n",
       "      <th>LBXGLU</th>\n",
       "      <th>DIQ010</th>\n",
       "      <th>LBXGLT</th>\n",
       "      <th>LBXIN</th>\n",
       "    </tr>\n",
       "  </thead>\n",
       "  <tbody>\n",
       "    <tr>\n",
       "      <th>0</th>\n",
       "      <td>1</td>\n",
       "      <td>61.0</td>\n",
       "      <td>2.0</td>\n",
       "      <td>2.0</td>\n",
       "      <td>35.7</td>\n",
       "      <td>110.0</td>\n",
       "      <td>2.0</td>\n",
       "      <td>150.0</td>\n",
       "      <td>14.91</td>\n",
       "    </tr>\n",
       "    <tr>\n",
       "      <th>2</th>\n",
       "      <td>1</td>\n",
       "      <td>16.0</td>\n",
       "      <td>1.0</td>\n",
       "      <td>2.0</td>\n",
       "      <td>23.2</td>\n",
       "      <td>89.0</td>\n",
       "      <td>2.0</td>\n",
       "      <td>68.0</td>\n",
       "      <td>6.14</td>\n",
       "    </tr>\n",
       "    <tr>\n",
       "      <th>3</th>\n",
       "      <td>1</td>\n",
       "      <td>32.0</td>\n",
       "      <td>1.0</td>\n",
       "      <td>2.0</td>\n",
       "      <td>28.9</td>\n",
       "      <td>104.0</td>\n",
       "      <td>2.0</td>\n",
       "      <td>84.0</td>\n",
       "      <td>16.15</td>\n",
       "    </tr>\n",
       "    <tr>\n",
       "      <th>4</th>\n",
       "      <td>1</td>\n",
       "      <td>38.0</td>\n",
       "      <td>2.0</td>\n",
       "      <td>1.0</td>\n",
       "      <td>35.9</td>\n",
       "      <td>103.0</td>\n",
       "      <td>2.0</td>\n",
       "      <td>81.0</td>\n",
       "      <td>10.92</td>\n",
       "    </tr>\n",
       "    <tr>\n",
       "      <th>5</th>\n",
       "      <td>1</td>\n",
       "      <td>50.0</td>\n",
       "      <td>1.0</td>\n",
       "      <td>2.0</td>\n",
       "      <td>23.6</td>\n",
       "      <td>110.0</td>\n",
       "      <td>2.0</td>\n",
       "      <td>100.0</td>\n",
       "      <td>6.08</td>\n",
       "    </tr>\n",
       "  </tbody>\n",
       "</table>\n",
       "</div>"
      ],
      "text/plain": [
       "   age_group  RIDAGEYR  RIAGENDR  PAQ605  BMXBMI  LBXGLU  DIQ010  LBXGLT  \\\n",
       "0          1      61.0       2.0     2.0    35.7   110.0     2.0   150.0   \n",
       "2          1      16.0       1.0     2.0    23.2    89.0     2.0    68.0   \n",
       "3          1      32.0       1.0     2.0    28.9   104.0     2.0    84.0   \n",
       "4          1      38.0       2.0     1.0    35.9   103.0     2.0    81.0   \n",
       "5          1      50.0       1.0     2.0    23.6   110.0     2.0   100.0   \n",
       "\n",
       "   LBXIN  \n",
       "0  14.91  \n",
       "2   6.14  \n",
       "3  16.15  \n",
       "4  10.92  \n",
       "5   6.08  "
      ]
     },
     "execution_count": 21,
     "metadata": {},
     "output_type": "execute_result"
    }
   ],
   "source": [
    "#Drop the Id columns \n",
    "df_new = df.drop(columns=('SEQN'), index=1)\n",
    "df_new.head()"
   ]
  },
  {
   "cell_type": "code",
   "execution_count": 22,
   "id": "56aff2b3",
   "metadata": {},
   "outputs": [],
   "source": [
    "#pip install missingno"
   ]
  },
  {
   "cell_type": "code",
   "execution_count": 23,
   "id": "6d4e8630",
   "metadata": {},
   "outputs": [],
   "source": [
    "import missingno as msno"
   ]
  },
  {
   "cell_type": "code",
   "execution_count": 24,
   "id": "029e926f",
   "metadata": {},
   "outputs": [
    {
     "data": {
      "text/plain": [
       "<Axes: >"
      ]
     },
     "execution_count": 24,
     "metadata": {},
     "output_type": "execute_result"
    },
    {
     "data": {
      "image/png": "[encoded data removed]",
      "text/plain": [
       "<Figure size 2500x1000 with 3 Axes>"
      ]
     },
     "metadata": {},
     "output_type": "display_data"
    }
   ],
   "source": [
    "msno.bar(df)"
   ]
  },
  {
   "cell_type": "code",
   "execution_count": 25,
   "id": "ac121fac",
   "metadata": {},
   "outputs": [
    {
     "data": {
      "text/plain": [
       "<Axes: >"
      ]
     },
     "execution_count": 25,
     "metadata": {},
     "output_type": "execute_result"
    },
    {
     "data": {
      "image/png": "[encoded data removed]",
      "text/plain": [
       "<Figure size 2500x1000 with 2 Axes>"
      ]
     },
     "metadata": {},
     "output_type": "display_data"
    }
   ],
   "source": [
    "msno.matrix(df)"
   ]
  },
  {
   "cell_type": "code",
   "execution_count": 27,
   "id": "62b5093a",
   "metadata": {},
   "outputs": [
    {
     "data": {
      "text/plain": [
       "(2277, 9)"
      ]
     },
     "execution_count": 27,
     "metadata": {},
     "output_type": "execute_result"
    }
   ],
   "source": [
    "df_new.shape"
   ]
  },
  {
   "cell_type": "code",
   "execution_count": 28,
   "id": "04a6ae7f",
   "metadata": {},
   "outputs": [
    {
     "data": {
      "text/plain": [
       "age_group\n",
       "1    1913\n",
       "2     364\n",
       "Name: count, dtype: int64"
      ]
     },
     "execution_count": 28,
     "metadata": {},
     "output_type": "execute_result"
    }
   ],
   "source": [
    "df_new[\"age_group\"].unique()\n",
    "df_new[\"age_group\"].value_counts()"
   ]
  },
  {
   "cell_type": "code",
   "execution_count": 30,
   "id": "80e14e14",
   "metadata": {},
   "outputs": [
    {
     "data": {
      "text/plain": [
       "Index(['age_group', 'RIDAGEYR', 'RIAGENDR', 'PAQ605', 'BMXBMI', 'LBXGLU',\n",
       "       'DIQ010', 'LBXGLT', 'LBXIN'],\n",
       "      dtype='object')"
      ]
     },
     "execution_count": 30,
     "metadata": {},
     "output_type": "execute_result"
    }
   ],
   "source": [
    "df_new.columns"
   ]
  },
  {
   "cell_type": "code",
   "execution_count": 31,
   "id": "a9ffa591",
   "metadata": {},
   "outputs": [],
   "source": [
    "from sklearn.preprocessing import LabelEncoder \n",
    "le = LabelEncoder()\n",
    "\n",
    "df_new.age_group = le.fit_transform(df_new.age_group)\n",
    "df_new.RIAGENDR= le.fit_transform(df_new.RIAGENDR)\n",
    "df_new.PAQ605 = le.fit_transform(df_new.PAQ605)\n",
    "df_new.DIQ010 = le.fit_transform(df_new.DIQ010)"
   ]
  },
  {
   "cell_type": "code",
   "execution_count": 32,
   "id": "3a282b04",
   "metadata": {},
   "outputs": [
    {
     "data": {
      "text/html": [
       "<div>\n",
       "<style scoped>\n",
       "    .dataframe tbody tr th:only-of-type {\n",
       "        vertical-align: middle;\n",
       "    }\n",
       "\n",
       "    .dataframe tbody tr th {\n",
       "        vertical-align: top;\n",
       "    }\n",
       "\n",
       "    .dataframe thead th {\n",
       "        text-align: right;\n",
       "    }\n",
       "</style>\n",
       "<table border=\"1\" class=\"dataframe\">\n",
       "  <thead>\n",
       "    <tr style=\"text-align: right;\">\n",
       "      <th></th>\n",
       "      <th>age_group</th>\n",
       "      <th>RIDAGEYR</th>\n",
       "      <th>RIAGENDR</th>\n",
       "      <th>PAQ605</th>\n",
       "      <th>BMXBMI</th>\n",
       "      <th>LBXGLU</th>\n",
       "      <th>DIQ010</th>\n",
       "      <th>LBXGLT</th>\n",
       "      <th>LBXIN</th>\n",
       "    </tr>\n",
       "  </thead>\n",
       "  <tbody>\n",
       "    <tr>\n",
       "      <th>0</th>\n",
       "      <td>0</td>\n",
       "      <td>61.0</td>\n",
       "      <td>1</td>\n",
       "      <td>1</td>\n",
       "      <td>35.7</td>\n",
       "      <td>110.0</td>\n",
       "      <td>1</td>\n",
       "      <td>150.0</td>\n",
       "      <td>14.91</td>\n",
       "    </tr>\n",
       "    <tr>\n",
       "      <th>2</th>\n",
       "      <td>0</td>\n",
       "      <td>16.0</td>\n",
       "      <td>0</td>\n",
       "      <td>1</td>\n",
       "      <td>23.2</td>\n",
       "      <td>89.0</td>\n",
       "      <td>1</td>\n",
       "      <td>68.0</td>\n",
       "      <td>6.14</td>\n",
       "    </tr>\n",
       "    <tr>\n",
       "      <th>3</th>\n",
       "      <td>0</td>\n",
       "      <td>32.0</td>\n",
       "      <td>0</td>\n",
       "      <td>1</td>\n",
       "      <td>28.9</td>\n",
       "      <td>104.0</td>\n",
       "      <td>1</td>\n",
       "      <td>84.0</td>\n",
       "      <td>16.15</td>\n",
       "    </tr>\n",
       "    <tr>\n",
       "      <th>4</th>\n",
       "      <td>0</td>\n",
       "      <td>38.0</td>\n",
       "      <td>1</td>\n",
       "      <td>0</td>\n",
       "      <td>35.9</td>\n",
       "      <td>103.0</td>\n",
       "      <td>1</td>\n",
       "      <td>81.0</td>\n",
       "      <td>10.92</td>\n",
       "    </tr>\n",
       "    <tr>\n",
       "      <th>5</th>\n",
       "      <td>0</td>\n",
       "      <td>50.0</td>\n",
       "      <td>0</td>\n",
       "      <td>1</td>\n",
       "      <td>23.6</td>\n",
       "      <td>110.0</td>\n",
       "      <td>1</td>\n",
       "      <td>100.0</td>\n",
       "      <td>6.08</td>\n",
       "    </tr>\n",
       "  </tbody>\n",
       "</table>\n",
       "</div>"
      ],
      "text/plain": [
       "   age_group  RIDAGEYR  RIAGENDR  PAQ605  BMXBMI  LBXGLU  DIQ010  LBXGLT  \\\n",
       "0          0      61.0         1       1    35.7   110.0       1   150.0   \n",
       "2          0      16.0         0       1    23.2    89.0       1    68.0   \n",
       "3          0      32.0         0       1    28.9   104.0       1    84.0   \n",
       "4          0      38.0         1       0    35.9   103.0       1    81.0   \n",
       "5          0      50.0         0       1    23.6   110.0       1   100.0   \n",
       "\n",
       "   LBXIN  \n",
       "0  14.91  \n",
       "2   6.14  \n",
       "3  16.15  \n",
       "4  10.92  \n",
       "5   6.08  "
      ]
     },
     "execution_count": 32,
     "metadata": {},
     "output_type": "execute_result"
    }
   ],
   "source": [
    "df_new.head()"
   ]
  },
  {
   "cell_type": "code",
   "execution_count": 33,
   "id": "b257175d",
   "metadata": {},
   "outputs": [
    {
     "data": {
      "text/plain": [
       "array([1, 0, 2], dtype=int64)"
      ]
     },
     "execution_count": 33,
     "metadata": {},
     "output_type": "execute_result"
    }
   ],
   "source": [
    "df_new['DIQ010'].unique()"
   ]
  },
  {
   "cell_type": "code",
   "execution_count": 19,
   "id": "317ced5e",
   "metadata": {},
   "outputs": [
    {
     "data": {
      "image/png": "[encoded data removed]",
      "text/plain": [
       "<Figure size 2500x500 with 3 Axes>"
      ]
     },
     "metadata": {},
     "output_type": "display_data"
    }
   ],
   "source": [
    "fig, ax = plt.subplots(1,3,figsize=(25,5))\n",
    "for i, col in enumerate([\"DIQ010\",\"RIAGENDR\",\"PAQ605\"]):\n",
    "  sns.countplot(data=df,\n",
    "                x=col,\n",
    "                hue='age_group',\n",
    "                ax=ax[i])"
   ]
  },
  {
   "cell_type": "code",
   "execution_count": 20,
   "id": "6cd5bdb9",
   "metadata": {},
   "outputs": [
    {
     "data": {
      "image/png": "[encoded data removed]",
      "text/plain": [
       "<Figure size 1000x500 with 4 Axes>"
      ]
     },
     "metadata": {},
     "output_type": "display_data"
    }
   ],
   "source": [
    "# Outlier Analysis\n",
    "fig, axs = plt.subplots(2,2, figsize = (10,5))\n",
    "plt1 = sns.boxplot(df['RIDAGEYR'], ax = axs[0,0])\n",
    "plt2 = sns.boxplot(df['BMXBMI'], ax = axs[0,1])\n",
    "plt3 = sns.boxplot(df['LBXGLT'], ax = axs[1,0])\n",
    "plt4 = sns.boxplot(df['LBXIN'], ax = axs[1,1])\n",
    "\n",
    "plt.tight_layout()"
   ]
  },
  {
   "cell_type": "code",
   "execution_count": 34,
   "id": "abbaf4c8",
   "metadata": {},
   "outputs": [
    {
     "data": {
      "text/plain": [
       "((2277, 8), (2277,))"
      ]
     },
     "execution_count": 34,
     "metadata": {},
     "output_type": "execute_result"
    }
   ],
   "source": [
    "# Capital X because there are more than one feature \n",
    "  # y - lower case = because it's only one feature. \n",
    "    \n",
    "X = df_new.drop(columns=[\"DIQ010\"])\n",
    "y = df_new['DIQ010']\n",
    "\n",
    "X.shape, y.shape"
   ]
  },
  {
   "cell_type": "code",
   "execution_count": 35,
   "id": "9b49714f",
   "metadata": {},
   "outputs": [
    {
     "data": {
      "text/html": [
       "<div>\n",
       "<style scoped>\n",
       "    .dataframe tbody tr th:only-of-type {\n",
       "        vertical-align: middle;\n",
       "    }\n",
       "\n",
       "    .dataframe tbody tr th {\n",
       "        vertical-align: top;\n",
       "    }\n",
       "\n",
       "    .dataframe thead th {\n",
       "        text-align: right;\n",
       "    }\n",
       "</style>\n",
       "<table border=\"1\" class=\"dataframe\">\n",
       "  <thead>\n",
       "    <tr style=\"text-align: right;\">\n",
       "      <th>DIQ010</th>\n",
       "      <th>1</th>\n",
       "      <th>1</th>\n",
       "      <th>1</th>\n",
       "      <th>1</th>\n",
       "      <th>1</th>\n",
       "      <th>1</th>\n",
       "      <th>1</th>\n",
       "      <th>1</th>\n",
       "      <th>1</th>\n",
       "      <th>1</th>\n",
       "      <th>...</th>\n",
       "      <th>1</th>\n",
       "      <th>1</th>\n",
       "      <th>1</th>\n",
       "      <th>1</th>\n",
       "      <th>1</th>\n",
       "      <th>1</th>\n",
       "      <th>1</th>\n",
       "      <th>1</th>\n",
       "      <th>1</th>\n",
       "      <th>1</th>\n",
       "    </tr>\n",
       "  </thead>\n",
       "  <tbody>\n",
       "    <tr>\n",
       "      <th>age_group</th>\n",
       "      <td>0.153776</td>\n",
       "      <td>0.153776</td>\n",
       "      <td>0.153776</td>\n",
       "      <td>0.153776</td>\n",
       "      <td>0.153776</td>\n",
       "      <td>0.153776</td>\n",
       "      <td>0.153776</td>\n",
       "      <td>0.153776</td>\n",
       "      <td>0.153776</td>\n",
       "      <td>0.153776</td>\n",
       "      <td>...</td>\n",
       "      <td>0.153776</td>\n",
       "      <td>0.153776</td>\n",
       "      <td>0.153776</td>\n",
       "      <td>0.153776</td>\n",
       "      <td>0.153776</td>\n",
       "      <td>0.153776</td>\n",
       "      <td>0.153776</td>\n",
       "      <td>0.153776</td>\n",
       "      <td>0.153776</td>\n",
       "      <td>0.153776</td>\n",
       "    </tr>\n",
       "    <tr>\n",
       "      <th>RIDAGEYR</th>\n",
       "      <td>41.262511</td>\n",
       "      <td>41.262511</td>\n",
       "      <td>41.262511</td>\n",
       "      <td>41.262511</td>\n",
       "      <td>41.262511</td>\n",
       "      <td>41.262511</td>\n",
       "      <td>41.262511</td>\n",
       "      <td>41.262511</td>\n",
       "      <td>41.262511</td>\n",
       "      <td>41.262511</td>\n",
       "      <td>...</td>\n",
       "      <td>41.262511</td>\n",
       "      <td>41.262511</td>\n",
       "      <td>41.262511</td>\n",
       "      <td>41.262511</td>\n",
       "      <td>41.262511</td>\n",
       "      <td>41.262511</td>\n",
       "      <td>41.262511</td>\n",
       "      <td>41.262511</td>\n",
       "      <td>41.262511</td>\n",
       "      <td>41.262511</td>\n",
       "    </tr>\n",
       "    <tr>\n",
       "      <th>RIAGENDR</th>\n",
       "      <td>0.512284</td>\n",
       "      <td>0.512284</td>\n",
       "      <td>0.512284</td>\n",
       "      <td>0.512284</td>\n",
       "      <td>0.512284</td>\n",
       "      <td>0.512284</td>\n",
       "      <td>0.512284</td>\n",
       "      <td>0.512284</td>\n",
       "      <td>0.512284</td>\n",
       "      <td>0.512284</td>\n",
       "      <td>...</td>\n",
       "      <td>0.512284</td>\n",
       "      <td>0.512284</td>\n",
       "      <td>0.512284</td>\n",
       "      <td>0.512284</td>\n",
       "      <td>0.512284</td>\n",
       "      <td>0.512284</td>\n",
       "      <td>0.512284</td>\n",
       "      <td>0.512284</td>\n",
       "      <td>0.512284</td>\n",
       "      <td>0.512284</td>\n",
       "    </tr>\n",
       "    <tr>\n",
       "      <th>PAQ605</th>\n",
       "      <td>0.823021</td>\n",
       "      <td>0.823021</td>\n",
       "      <td>0.823021</td>\n",
       "      <td>0.823021</td>\n",
       "      <td>0.823021</td>\n",
       "      <td>0.823021</td>\n",
       "      <td>0.823021</td>\n",
       "      <td>0.823021</td>\n",
       "      <td>0.823021</td>\n",
       "      <td>0.823021</td>\n",
       "      <td>...</td>\n",
       "      <td>0.823021</td>\n",
       "      <td>0.823021</td>\n",
       "      <td>0.823021</td>\n",
       "      <td>0.823021</td>\n",
       "      <td>0.823021</td>\n",
       "      <td>0.823021</td>\n",
       "      <td>0.823021</td>\n",
       "      <td>0.823021</td>\n",
       "      <td>0.823021</td>\n",
       "      <td>0.823021</td>\n",
       "    </tr>\n",
       "    <tr>\n",
       "      <th>BMXBMI</th>\n",
       "      <td>27.833803</td>\n",
       "      <td>27.833803</td>\n",
       "      <td>27.833803</td>\n",
       "      <td>27.833803</td>\n",
       "      <td>27.833803</td>\n",
       "      <td>27.833803</td>\n",
       "      <td>27.833803</td>\n",
       "      <td>27.833803</td>\n",
       "      <td>27.833803</td>\n",
       "      <td>27.833803</td>\n",
       "      <td>...</td>\n",
       "      <td>27.833803</td>\n",
       "      <td>27.833803</td>\n",
       "      <td>27.833803</td>\n",
       "      <td>27.833803</td>\n",
       "      <td>27.833803</td>\n",
       "      <td>27.833803</td>\n",
       "      <td>27.833803</td>\n",
       "      <td>27.833803</td>\n",
       "      <td>27.833803</td>\n",
       "      <td>27.833803</td>\n",
       "    </tr>\n",
       "    <tr>\n",
       "      <th>LBXGLU</th>\n",
       "      <td>98.631028</td>\n",
       "      <td>98.631028</td>\n",
       "      <td>98.631028</td>\n",
       "      <td>98.631028</td>\n",
       "      <td>98.631028</td>\n",
       "      <td>98.631028</td>\n",
       "      <td>98.631028</td>\n",
       "      <td>98.631028</td>\n",
       "      <td>98.631028</td>\n",
       "      <td>98.631028</td>\n",
       "      <td>...</td>\n",
       "      <td>98.631028</td>\n",
       "      <td>98.631028</td>\n",
       "      <td>98.631028</td>\n",
       "      <td>98.631028</td>\n",
       "      <td>98.631028</td>\n",
       "      <td>98.631028</td>\n",
       "      <td>98.631028</td>\n",
       "      <td>98.631028</td>\n",
       "      <td>98.631028</td>\n",
       "      <td>98.631028</td>\n",
       "    </tr>\n",
       "    <tr>\n",
       "      <th>DIQ010</th>\n",
       "      <td>1.000000</td>\n",
       "      <td>1.000000</td>\n",
       "      <td>1.000000</td>\n",
       "      <td>1.000000</td>\n",
       "      <td>1.000000</td>\n",
       "      <td>1.000000</td>\n",
       "      <td>1.000000</td>\n",
       "      <td>1.000000</td>\n",
       "      <td>1.000000</td>\n",
       "      <td>1.000000</td>\n",
       "      <td>...</td>\n",
       "      <td>1.000000</td>\n",
       "      <td>1.000000</td>\n",
       "      <td>1.000000</td>\n",
       "      <td>1.000000</td>\n",
       "      <td>1.000000</td>\n",
       "      <td>1.000000</td>\n",
       "      <td>1.000000</td>\n",
       "      <td>1.000000</td>\n",
       "      <td>1.000000</td>\n",
       "      <td>1.000000</td>\n",
       "    </tr>\n",
       "    <tr>\n",
       "      <th>LBXGLT</th>\n",
       "      <td>112.627389</td>\n",
       "      <td>112.627389</td>\n",
       "      <td>112.627389</td>\n",
       "      <td>112.627389</td>\n",
       "      <td>112.627389</td>\n",
       "      <td>112.627389</td>\n",
       "      <td>112.627389</td>\n",
       "      <td>112.627389</td>\n",
       "      <td>112.627389</td>\n",
       "      <td>112.627389</td>\n",
       "      <td>...</td>\n",
       "      <td>112.627389</td>\n",
       "      <td>112.627389</td>\n",
       "      <td>112.627389</td>\n",
       "      <td>112.627389</td>\n",
       "      <td>112.627389</td>\n",
       "      <td>112.627389</td>\n",
       "      <td>112.627389</td>\n",
       "      <td>112.627389</td>\n",
       "      <td>112.627389</td>\n",
       "      <td>112.627389</td>\n",
       "    </tr>\n",
       "    <tr>\n",
       "      <th>LBXIN</th>\n",
       "      <td>11.668321</td>\n",
       "      <td>11.668321</td>\n",
       "      <td>11.668321</td>\n",
       "      <td>11.668321</td>\n",
       "      <td>11.668321</td>\n",
       "      <td>11.668321</td>\n",
       "      <td>11.668321</td>\n",
       "      <td>11.668321</td>\n",
       "      <td>11.668321</td>\n",
       "      <td>11.668321</td>\n",
       "      <td>...</td>\n",
       "      <td>11.668321</td>\n",
       "      <td>11.668321</td>\n",
       "      <td>11.668321</td>\n",
       "      <td>11.668321</td>\n",
       "      <td>11.668321</td>\n",
       "      <td>11.668321</td>\n",
       "      <td>11.668321</td>\n",
       "      <td>11.668321</td>\n",
       "      <td>11.668321</td>\n",
       "      <td>11.668321</td>\n",
       "    </tr>\n",
       "  </tbody>\n",
       "</table>\n",
       "<p>9 rows × 2277 columns</p>\n",
       "</div>"
      ],
      "text/plain": [
       "DIQ010              1           1           1           1           1  \\\n",
       "age_group    0.153776    0.153776    0.153776    0.153776    0.153776   \n",
       "RIDAGEYR    41.262511   41.262511   41.262511   41.262511   41.262511   \n",
       "RIAGENDR     0.512284    0.512284    0.512284    0.512284    0.512284   \n",
       "PAQ605       0.823021    0.823021    0.823021    0.823021    0.823021   \n",
       "BMXBMI      27.833803   27.833803   27.833803   27.833803   27.833803   \n",
       "LBXGLU      98.631028   98.631028   98.631028   98.631028   98.631028   \n",
       "DIQ010       1.000000    1.000000    1.000000    1.000000    1.000000   \n",
       "LBXGLT     112.627389  112.627389  112.627389  112.627389  112.627389   \n",
       "LBXIN       11.668321   11.668321   11.668321   11.668321   11.668321   \n",
       "\n",
       "DIQ010              1           1           1           1           1  ...  \\\n",
       "age_group    0.153776    0.153776    0.153776    0.153776    0.153776  ...   \n",
       "RIDAGEYR    41.262511   41.262511   41.262511   41.262511   41.262511  ...   \n",
       "RIAGENDR     0.512284    0.512284    0.512284    0.512284    0.512284  ...   \n",
       "PAQ605       0.823021    0.823021    0.823021    0.823021    0.823021  ...   \n",
       "BMXBMI      27.833803   27.833803   27.833803   27.833803   27.833803  ...   \n",
       "LBXGLU      98.631028   98.631028   98.631028   98.631028   98.631028  ...   \n",
       "DIQ010       1.000000    1.000000    1.000000    1.000000    1.000000  ...   \n",
       "LBXGLT     112.627389  112.627389  112.627389  112.627389  112.627389  ...   \n",
       "LBXIN       11.668321   11.668321   11.668321   11.668321   11.668321  ...   \n",
       "\n",
       "DIQ010              1           1           1           1           1  \\\n",
       "age_group    0.153776    0.153776    0.153776    0.153776    0.153776   \n",
       "RIDAGEYR    41.262511   41.262511   41.262511   41.262511   41.262511   \n",
       "RIAGENDR     0.512284    0.512284    0.512284    0.512284    0.512284   \n",
       "PAQ605       0.823021    0.823021    0.823021    0.823021    0.823021   \n",
       "BMXBMI      27.833803   27.833803   27.833803   27.833803   27.833803   \n",
       "LBXGLU      98.631028   98.631028   98.631028   98.631028   98.631028   \n",
       "DIQ010       1.000000    1.000000    1.000000    1.000000    1.000000   \n",
       "LBXGLT     112.627389  112.627389  112.627389  112.627389  112.627389   \n",
       "LBXIN       11.668321   11.668321   11.668321   11.668321   11.668321   \n",
       "\n",
       "DIQ010              1           1           1           1           1  \n",
       "age_group    0.153776    0.153776    0.153776    0.153776    0.153776  \n",
       "RIDAGEYR    41.262511   41.262511   41.262511   41.262511   41.262511  \n",
       "RIAGENDR     0.512284    0.512284    0.512284    0.512284    0.512284  \n",
       "PAQ605       0.823021    0.823021    0.823021    0.823021    0.823021  \n",
       "BMXBMI      27.833803   27.833803   27.833803   27.833803   27.833803  \n",
       "LBXGLU      98.631028   98.631028   98.631028   98.631028   98.631028  \n",
       "DIQ010       1.000000    1.000000    1.000000    1.000000    1.000000  \n",
       "LBXGLT     112.627389  112.627389  112.627389  112.627389  112.627389  \n",
       "LBXIN       11.668321   11.668321   11.668321   11.668321   11.668321  \n",
       "\n",
       "[9 rows x 2277 columns]"
      ]
     },
     "execution_count": 35,
     "metadata": {},
     "output_type": "execute_result"
    }
   ],
   "source": [
    "class_feature_means = pd.DataFrame(columns=df_new[\"DIQ010\"])\n",
    "for c, rows in df_new.groupby('DIQ010'):\n",
    "    class_feature_means[c] = rows.mean()\n",
    "class_feature_means"
   ]
  },
  {
   "cell_type": "code",
   "execution_count": null,
   "id": "800561bc",
   "metadata": {},
   "outputs": [],
   "source": []
  }
 ],
 "metadata": {
  "kernelspec": {
   "display_name": "Python 3 (ipykernel)",
   "language": "python",
   "name": "python3"
  },
  "language_info": {
   "codemirror_mode": {
    "name": "ipython",
    "version": 3
   },
   "file_extension": ".py",
   "mimetype": "text/x-python",
   "name": "python",
   "nbconvert_exporter": "python",
   "pygments_lexer": "ipython3",
   "version": "3.11.5"
  }
 },
 "nbformat": 4,
 "nbformat_minor": 5
}
